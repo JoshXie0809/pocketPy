{
 "cells": [
  {
   "cell_type": "code",
   "execution_count": 4,
   "metadata": {},
   "outputs": [
    {
     "name": "stdout",
     "output_type": "stream",
     "text": [
      "360 80\n",
      "[[1. 1. 1. 0. 0. 0. 0. 0. 0. 1. 1. 1.]\n",
      " [1. 1. 1. 0. 0. 0. 0. 0. 0. 1. 1. 1.]\n",
      " [1. 1. 1. 0. 0. 0. 0. 0. 0. 1. 1. 1.]\n",
      " [1. 1. 1. 0. 0. 0. 0. 0. 0. 1. 1. 1.]\n",
      " [1. 1. 1. 0. 0. 0. 0. 0. 0. 1. 1. 1.]\n",
      " [1. 1. 1. 0. 0. 0. 0. 0. 0. 1. 1. 1.]\n",
      " [1. 1. 1. 1. 1. 1. 1. 1. 1. 1. 1. 1.]\n",
      " [1. 1. 1. 1. 1. 1. 1. 1. 1. 1. 1. 1.]\n",
      " [1. 1. 1. 1. 1. 1. 1. 1. 1. 1. 1. 1.]]\n"
     ]
    },
    {
     "ename": "SystemExit",
     "evalue": "",
     "output_type": "error",
     "traceback": [
      "An exception has occurred, use %tb to see the full traceback.\n",
      "\u001b[1;31mSystemExit\u001b[0m\n"
     ]
    }
   ],
   "source": [
    "import pygame\n",
    "import numpy as np\n",
    "import pandas as pd\n",
    "import sys\n",
    "from IPython.display import clear_output\n",
    "\n",
    "running = True\n",
    "pygame.init()\n",
    "screen = pygame.display.set_mode((480,360))\n",
    "pygame.display.set_caption(\"PocketPyMap\")\n",
    "icon = pygame.image.load('./icon.png')\n",
    "pygame.display.set_icon(icon)\n",
    "\n",
    "\n",
    "# player\n",
    "pointImg = pygame.transform.scale(pygame.image.load('./icon.png'), (40, 40))\n",
    "pointx = 240\n",
    "pointy = 180\n",
    "speed = 20\n",
    "def point(x, y):\n",
    "    screen.blit(pointImg, (x, y))\n",
    "def point_move(event):\n",
    "    global pointx, pointy, treex, treey\n",
    "    if event.type == pygame.KEYDOWN:\n",
    "        if event.key == pygame.K_UP: pointy -= speed\n",
    "        if event.key == pygame.K_DOWN: pointy += speed\n",
    "        if event.key == pygame.K_LEFT: pointx -= speed\n",
    "        if event.key == pygame.K_RIGHT: pointx += speed\n",
    "        if event.key == pygame.K_SPACE:\n",
    "            clear_output()\n",
    "            print(pointx, pointy)\n",
    "            treey = pointy // 40\n",
    "            treex = pointx // 40\n",
    "            tree_array[treey, treex] = 1\n",
    "            print(tree_array)\n",
    "\n",
    "\n",
    "# background obj\n",
    "tree_array = np.loadtxt('../Game/background_obj/Tree/tree1.txt')\n",
    "print(tree_array)\n",
    "treeImg = pygame.transform.scale(pygame.image.load('./background_obj/tree.png'),(40,40))            \n",
    "def tree(position_map):\n",
    "    for y in range(9):\n",
    "        for x in range(12):\n",
    "            if position_map[y, x] == 1:\n",
    "                screen.blit(treeImg, (x*40, y*40))\n",
    "\n",
    "# gaming loop            \n",
    "while running:\n",
    "    screen.fill((0, 0, 0))\n",
    "    tree(tree_array)\n",
    "    for event in pygame.event.get():\n",
    "        if event.type == pygame.QUIT:\n",
    "            running = False\n",
    "            pygame.quit()\n",
    "            sys.exit()\n",
    "        if event.type == pygame.KEYDOWN:\n",
    "            if event.key == pygame.K_ESCAPE: running = False\n",
    "        point_move(event)\n",
    "            \n",
    "    # point\n",
    "    point(pointx, pointy)     \n",
    "    pygame.display.update()\n",
    "pygame.quit()"
   ]
  },
  {
   "cell_type": "code",
   "execution_count": null,
   "metadata": {},
   "outputs": [],
   "source": []
  },
  {
   "cell_type": "code",
   "execution_count": null,
   "metadata": {},
   "outputs": [],
   "source": []
  },
  {
   "cell_type": "code",
   "execution_count": 5,
   "metadata": {},
   "outputs": [],
   "source": [
    "np.savetxt('../Game/background_obj/Tree/tree1.txt',tree_array, fmt='%d')"
   ]
  },
  {
   "cell_type": "code",
   "execution_count": null,
   "metadata": {},
   "outputs": [],
   "source": []
  }
 ],
 "metadata": {
  "kernelspec": {
   "display_name": "Python 3",
   "language": "python",
   "name": "python3"
  },
  "language_info": {
   "codemirror_mode": {
    "name": "ipython",
    "version": 3
   },
   "file_extension": ".py",
   "mimetype": "text/x-python",
   "name": "python",
   "nbconvert_exporter": "python",
   "pygments_lexer": "ipython3",
   "version": "3.7.6"
  }
 },
 "nbformat": 4,
 "nbformat_minor": 4
}
