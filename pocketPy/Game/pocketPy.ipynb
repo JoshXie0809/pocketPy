{
 "cells": [
  {
   "cell_type": "code",
   "execution_count": null,
   "metadata": {},
   "outputs": [],
   "source": [
    "# !pip install pygame"
   ]
  },
  {
   "cell_type": "code",
   "execution_count": 2,
   "metadata": {},
   "outputs": [
    {
     "ename": "SystemExit",
     "evalue": "",
     "output_type": "error",
     "traceback": [
      "An exception has occurred, use %tb to see the full traceback.\n",
      "\u001b[1;31mSystemExit\u001b[0m\n"
     ]
    }
   ],
   "source": [
    "import pygame\n",
    "import sys\n",
    "import numpy as np\n",
    "\n",
    "\n",
    "pygame.init()\n",
    "# init\n",
    "icon = pygame.image.load('./icon.png')\n",
    "screen = pygame.display.set_mode((480, 360))\n",
    "pygame.display.set_caption('pocketPy')\n",
    "pygame.display.set_icon(icon)\n",
    "\n",
    "# player\n",
    "playerimgnum = 0\n",
    "playerImg = [pygame.image.load('./control_player/fore.png'), pygame.image.load('./control_player/back.png'),\n",
    "             pygame.image.load('./control_player/right.png'), pygame.image.load('./control_player/left.png')]\n",
    "playerX = 235\n",
    "playerY = 300\n",
    "playerSpeed = 25\n",
    "\n",
    "def player(num,x, y):\n",
    "    screen.blit(playerImg[num], (x, y))\n",
    "\n",
    "# background obj\n",
    "tree_array = np.loadtxt('./background_obj/Tree/tree1.txt')\n",
    "treeImg = pygame.transform.scale(pygame.image.load('./background_obj/Tree/tree.png'),(40,40))            \n",
    "def tree(position_map):\n",
    "    for y in range(9):\n",
    "        for x in range(12):\n",
    "            if position_map[y, x] == 1:\n",
    "                screen.blit(treeImg, (x*40, y*40))\n",
    "\n",
    "\n",
    "running = True\n",
    "while running:\n",
    "    screen.fill((0, 0, 0))\n",
    "    tree(tree_array)\n",
    "    for event in pygame.event.get():\n",
    "        if event.type == pygame.QUIT:\n",
    "            running = False\n",
    "            pygame.quit()\n",
    "            sys.exit()\n",
    "        if event.type == pygame.KEYDOWN:\n",
    "            if event.key == pygame.K_LEFT:\n",
    "                playerX -= playerSpeed\n",
    "                playerimgnum = 3\n",
    "            if event.key == pygame.K_RIGHT:\n",
    "                playerX += playerSpeed\n",
    "                playerimgnum = 2\n",
    "            if event.key == pygame.K_UP:\n",
    "                playerY -= playerSpeed\n",
    "                playerimgnum = 1\n",
    "            if event.key == pygame.K_DOWN:\n",
    "                playerY += playerSpeed\n",
    "                playerimgnum = 0\n",
    "            if event.key == pygame.K_ESCAPE:\n",
    "                running = False\n",
    "    #player\n",
    "    player(playerimgnum,playerX, playerY)\n",
    "\n",
    "\n",
    "    # renew \n",
    "    pygame.display.update()\n",
    "pygame.quit()"
   ]
  },
  {
   "cell_type": "code",
   "execution_count": null,
   "metadata": {},
   "outputs": [],
   "source": []
  },
  {
   "cell_type": "code",
   "execution_count": null,
   "metadata": {},
   "outputs": [],
   "source": []
  }
 ],
 "metadata": {
  "kernelspec": {
   "display_name": "Python 3",
   "language": "python",
   "name": "python3"
  },
  "language_info": {
   "codemirror_mode": {
    "name": "ipython",
    "version": 3
   },
   "file_extension": ".py",
   "mimetype": "text/x-python",
   "name": "python",
   "nbconvert_exporter": "python",
   "pygments_lexer": "ipython3",
   "version": "3.7.6"
  }
 },
 "nbformat": 4,
 "nbformat_minor": 4
}
