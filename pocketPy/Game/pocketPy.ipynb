{
 "cells": [
  {
   "cell_type": "code",
   "execution_count": null,
   "metadata": {},
   "outputs": [],
   "source": [
    "# !pip install pygame"
   ]
  },
  {
   "cell_type": "code",
   "execution_count": 1,
   "metadata": {},
   "outputs": [
    {
     "name": "stdout",
     "output_type": "stream",
     "text": [
      "pygame 1.9.6\n",
      "Hello from the pygame community. https://www.pygame.org/contribute.html\n"
     ]
    },
    {
     "ename": "SystemExit",
     "evalue": "",
     "output_type": "error",
     "traceback": [
      "An exception has occurred, use %tb to see the full traceback.\n",
      "\u001b[1;31mSystemExit\u001b[0m\n"
     ]
    },
    {
     "name": "stderr",
     "output_type": "stream",
     "text": [
      "C:\\Users\\777\\anaconda3\\lib\\site-packages\\IPython\\core\\interactiveshell.py:3339: UserWarning: To exit: use 'exit', 'quit', or Ctrl-D.\n",
      "  warn(\"To exit: use 'exit', 'quit', or Ctrl-D.\", stacklevel=1)\n"
     ]
    }
   ],
   "source": [
    "import pygame\n",
    "import sys\n",
    "import numpy as np\n",
    "\n",
    "\n",
    "pygame.init()\n",
    "# init\n",
    "icon = pygame.image.load('./icon.png')\n",
    "screen = pygame.display.set_mode((480, 360))\n",
    "pygame.display.set_caption('pocketPy')\n",
    "pygame.display.set_icon(icon)\n",
    "\n",
    "# player\n",
    "playerDirect = 'down'\n",
    "# playerImg = [pygame.image.load('./control_player/fore.png'), pygame.image.load('./control_player/back.png'),\n",
    "#             pygame.image.load('./control_player/right.png'), pygame.image.load('./control_player/left.png')]\n",
    "\n",
    "playerImg = {'down': pygame.transform.scale(pygame.image.load('./control_player/fore.png'), (20,20)),\n",
    "             'up': pygame.transform.scale(pygame.image.load('./control_player/back.png'), (20,20)),\n",
    "             'left': pygame.transform.scale(pygame.image.load('./control_player/left.png'), (20,20)),\n",
    "             'right': pygame.transform.scale(pygame.image.load('./control_player/right.png'), (20,20))}\n",
    "\n",
    "playerX = 235\n",
    "playerY = 300\n",
    "playerSpeed = .75\n",
    "\n",
    "def player(direct, playerX, playerY):\n",
    "    screen.blit(playerImg[direct], (playerX, playerY))\n",
    "\n",
    "def playerMove(event):\n",
    "    global playerX, playerY, playerDirect\n",
    "    if event.type == pygame.KEYDOWN:\n",
    "        if event.key == pygame.K_UP:\n",
    "            playerY -= playerSpeed\n",
    "            playerDirect = 'up'\n",
    "        if event.key == pygame.K_DOWN:\n",
    "            playerY += playerSpeed\n",
    "            playerDirect = 'down'\n",
    "        if event.key == pygame.K_LEFT: \n",
    "            playerX -= playerSpeed\n",
    "            playerDirect = 'left'\n",
    "        if event.key == pygame.K_RIGHT: \n",
    "            playerX += playerSpeed\n",
    "            playerDirect = 'right'\n",
    "            \n",
    "            \n",
    "# background obj\n",
    "tree_array = np.loadtxt('./background_obj/Tree/tree1.txt')\n",
    "treeImg = pygame.transform.scale(pygame.image.load('./background_obj/Tree/tree.png'),(40,40))            \n",
    "def tree(position_map):\n",
    "    for y in range(9):\n",
    "        for x in range(12):\n",
    "            if position_map[y, x] == 1:\n",
    "                screen.blit(treeImg, (x*40, y*40))\n",
    "\n",
    "# bag ## @X@ player status file\n",
    "def bag(leaveBag):\n",
    "    while not leaveBag:\n",
    "        screen.fill((0, 0, 0))\n",
    "        for event in pygame.event.get():\n",
    "            if event.type == pygame.KEYDOWN:\n",
    "                if event.key == pygame.K_ESCAPE:\n",
    "                    leaveBag = True\n",
    "        pygame.display.update()\n",
    "    \n",
    "        \n",
    "        \n",
    "        \n",
    "running = True\n",
    "while running:\n",
    "    screen.fill((0, 0, 0))\n",
    "    tree(tree_array)\n",
    "    for event in pygame.event.get():\n",
    "        if event.type == pygame.QUIT:\n",
    "            running = False\n",
    "            pygame.quit()\n",
    "            sys.exit()\n",
    "        # bag\n",
    "        if event.type == pygame.KEYDOWN:\n",
    "            if event.key == pygame.K_b:\n",
    "                leaveBag = False\n",
    "                bag(leaveBag)\n",
    "                    \n",
    "    #player\n",
    "    player(playerDirect,playerX, playerY)\n",
    "    playerMove(event)\n",
    "\n",
    "    # renew \n",
    "    pygame.display.update()\n",
    "pygame.quit()"
   ]
  },
  {
   "cell_type": "code",
   "execution_count": null,
   "metadata": {},
   "outputs": [],
   "source": []
  },
  {
   "cell_type": "code",
   "execution_count": null,
   "metadata": {},
   "outputs": [],
   "source": []
  }
 ],
 "metadata": {
  "kernelspec": {
   "display_name": "Python 3",
   "language": "python",
   "name": "python3"
  },
  "language_info": {
   "codemirror_mode": {
    "name": "ipython",
    "version": 3
   },
   "file_extension": ".py",
   "mimetype": "text/x-python",
   "name": "python",
   "nbconvert_exporter": "python",
   "pygments_lexer": "ipython3",
   "version": "3.7.6"
  }
 },
 "nbformat": 4,
 "nbformat_minor": 4
}
