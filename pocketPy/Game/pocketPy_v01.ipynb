{
 "cells": [
  {
   "cell_type": "code",
   "execution_count": 16,
   "metadata": {},
   "outputs": [
    {
     "ename": "SystemExit",
     "evalue": "",
     "output_type": "error",
     "traceback": [
      "An exception has occurred, use %tb to see the full traceback.\n",
      "\u001b[1;31mSystemExit\u001b[0m\n"
     ]
    },
    {
     "name": "stderr",
     "output_type": "stream",
     "text": [
      "C:\\Users\\777\\anaconda3\\lib\\site-packages\\IPython\\core\\interactiveshell.py:3339: UserWarning: To exit: use 'exit', 'quit', or Ctrl-D.\n",
      "  warn(\"To exit: use 'exit', 'quit', or Ctrl-D.\", stacklevel=1)\n"
     ]
    }
   ],
   "source": [
    "import pygame\n",
    "import sys\n",
    "import numpy as np\n",
    "import pandas as pd\n",
    "from IPython.display import clear_output\n",
    "\n",
    "pygame.init()\n",
    "# init\n",
    "icon = pygame.image.load('./icon.png')\n",
    "screen = pygame.display.set_mode((480, 360))\n",
    "pygame.display.set_caption('pocketPy v0.1')\n",
    "pygame.display.set_icon(icon)\n",
    "\n",
    "# Map #suppose shape: 18x12\n",
    "## 1x1: 40x40\n",
    "bigMap = np.arange(18*12).reshape(18, 12) * 0 # initialize big map\n",
    "nowMap = bigMap[0:9, 0:12] # initialize player's position map\n",
    "mapUp = 0\n",
    "mapDown = 9\n",
    "mapLeft = 0\n",
    "mapRight = 12\n",
    "\n",
    "## a function to record nowRow nowCol\n",
    "def playerRowCol(playerX, playerY):\n",
    "    global mapUp, mapDown, mapLeft, mapRight, nowMap, bigMap\n",
    "    nowRow = int( (playerY // 40)// 9)\n",
    "    nowCol = int( (playerY // 40)// 12)\n",
    "    westNorthPoint = (nowRow, nowCol)\n",
    "    mapUp = westNorthPoint[0]\n",
    "    mapDown = westNorthPoint[0] + 9\n",
    "    mapLeft = westNorthPoint[1]\n",
    "    mapRight = westNorthPoint[1] + 12\n",
    "    # row\n",
    "    if mapUp > 0 and mapDown < bigMap.shape[0]:\n",
    "        nowMap = bigMap[mapUp:mapDown, :]\n",
    "\n",
    "        \n",
    "        \n",
    "## player\n",
    "playerDirect = 'down'\n",
    "playerImgSize = (20,30)\n",
    "playerImg = {'down': pygame.transform.scale(pygame.image.load('./control_player/fore.png'), playerImgSize),\n",
    "             'up': pygame.transform.scale(pygame.image.load('./control_player/back.png'), playerImgSize),\n",
    "             'left': pygame.transform.scale(pygame.image.load('./control_player/left.png'), playerImgSize),\n",
    "             'right': pygame.transform.scale(pygame.image.load('./control_player/right.png'), playerImgSize)}\n",
    "\n",
    "\n",
    "\n",
    "\n",
    "\n",
    "\n",
    "\n",
    "\n",
    "\n",
    "\n",
    "\n",
    "\n",
    "running = True\n",
    "while running:\n",
    "    screen.fill((0, 0, 0))   \n",
    "    for event in pygame.event.get():\n",
    "        if event.type == pygame.QUIT:\n",
    "            running = False\n",
    "            pygame.quit()\n",
    "            sys.exit()"
   ]
  },
  {
   "cell_type": "code",
   "execution_count": null,
   "metadata": {},
   "outputs": [],
   "source": []
  },
  {
   "cell_type": "code",
   "execution_count": null,
   "metadata": {},
   "outputs": [],
   "source": []
  },
  {
   "cell_type": "code",
   "execution_count": null,
   "metadata": {},
   "outputs": [],
   "source": []
  }
 ],
 "metadata": {
  "kernelspec": {
   "display_name": "Python 3",
   "language": "python",
   "name": "python3"
  },
  "language_info": {
   "codemirror_mode": {
    "name": "ipython",
    "version": 3
   },
   "file_extension": ".py",
   "mimetype": "text/x-python",
   "name": "python",
   "nbconvert_exporter": "python",
   "pygments_lexer": "ipython3",
   "version": "3.7.6"
  }
 },
 "nbformat": 4,
 "nbformat_minor": 4
}
